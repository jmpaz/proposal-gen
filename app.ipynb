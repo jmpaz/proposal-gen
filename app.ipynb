{
 "cells": [
  {
   "cell_type": "code",
   "execution_count": 45,
   "metadata": {},
   "outputs": [],
   "source": [
    "import streamlit as st\n",
    "\n",
    "from langchain.prompts import PromptTemplate\n",
    "from langchain.llms import OpenAI\n",
    "from langchain.chains import LLMChain\n",
    "\n",
    "llm = OpenAI(model_name=\"text-chat-davinci-002-20230126\", temperature=0.8)\n",
    "\n",
    "prompt = PromptTemplate(\n",
    "    input_variables=[\"message\"],\n",
    "    template=\"You are Assistant, a large language model trained by OpenAI and designed to assist with a wide range of tasks, often providing valuable insights and information on a wide range of topics. When needed, messages should be enclosed in an appropriate number of backticks or double quotes, depending on the contents of the input or output message. Please make sure to properly style your responses using Github Flavored Markdown. Use markdown syntax for things like headings, lists, tables, quotes, colored text, code blocks, highlights, superscripts, etc, etc. For emojis, use unicode. Make sure not to mention markdown or styling in your actual response.\\n\\nUser: \\\"\\\"\\\"\\\"\\\"\\n{message}\\\"\\\"\\\"\\\"\\\"\\n\\nAssistant: \",\n",
    ")\n",
    "\n",
    "chain = LLMChain(llm=llm, prompt=prompt)"
   ]
  },
  {
   "cell_type": "code",
   "execution_count": null,
   "metadata": {},
   "outputs": [],
   "source": [
    "# run the chain, stripping \"<|im_end|>\" (appended to text-chat-davinci completions) from the very end of the output string\n",
    "output = chain.run(\"What is your name and function?\").strip(\"<|im_end|>\")\n",
    "print(output)"
   ]
  }
 ],
 "metadata": {
  "kernelspec": {
   "display_name": "Python 3",
   "language": "python",
   "name": "python3"
  },
  "language_info": {
   "codemirror_mode": {
    "name": "ipython",
    "version": 3
   },
   "file_extension": ".py",
   "mimetype": "text/x-python",
   "name": "python",
   "nbconvert_exporter": "python",
   "pygments_lexer": "ipython3",
   "version": "3.10.9"
  },
  "orig_nbformat": 4,
  "vscode": {
   "interpreter": {
    "hash": "b0fa6594d8f4cbf19f97940f81e996739fb7646882a419484c72d19e05852a7e"
   }
  }
 },
 "nbformat": 4,
 "nbformat_minor": 2
}
